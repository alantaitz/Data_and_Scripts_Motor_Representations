{
 "cells": [
  {
   "cell_type": "code",
   "execution_count": 1,
   "metadata": {
    "collapsed": true
   },
   "outputs": [],
   "source": [
    "import pandas as pd\n",
    "import os\n",
    "import seaborn\n",
    "import matplotlib.pyplot as plt \n",
    "import numpy as np\n",
    "import scipy.stats\n",
    "import statsmodels.api as sm\n",
    "from scipy import stats\n",
    "%matplotlib inline"
   ]
  },
  {
   "cell_type": "code",
   "execution_count": 3,
   "metadata": {},
   "outputs": [
    {
     "data": {
      "text/plain": [
       "(8722, 26)"
      ]
     },
     "execution_count": 3,
     "metadata": {},
     "output_type": "execute_result"
    }
   ],
   "source": [
    "# Load data\n",
    "Data = pd.read_csv('./Preprocessed Data/Data.csv')\n",
    "Data.shape"
   ]
  },
  {
   "cell_type": "code",
   "execution_count": 4,
   "metadata": {
    "collapsed": true
   },
   "outputs": [],
   "source": [
    "# All CCVs Types\n",
    "CCVStats           = Data.groupby(['CCV', 'bloque', 'TipoNumCCV']).agg(['mean', 'sem'])\n",
    "CCVStats['block']  = CCVStats.index.get_level_values('bloque')\n",
    "CCVStats['CCV']    = CCVStats.index.get_level_values('CCV')\n",
    "CCVStats['type']   = CCVStats.index.get_level_values('TipoNumCCV')"
   ]
  },
  {
   "cell_type": "code",
   "execution_count": 5,
   "metadata": {},
   "outputs": [
    {
     "data": {
      "text/plain": [
       "(2415, 26)"
      ]
     },
     "execution_count": 5,
     "metadata": {},
     "output_type": "execute_result"
    }
   ],
   "source": [
    "# CCV Types:\n",
    "#CCVType = 1   #Fricative - Fricative\n",
    "#CCVType = 2   #Voiced Plosive - Fricative\n",
    "#CCVType = 3   #Unvoiced Plosive - Fricative\n",
    "#CCVType = 4   #Fricative - Plosive\n",
    "CCVType = 5   #Voiced Plosive - Plosive\n",
    "#CCVType = 6   #Unvoiced Plosive - Plosive\n",
    "\n",
    "# Voiced Plosive Plosive\n",
    "Data = Data[Data.TipoNumCCV==CCVType]\n",
    "Data.shape"
   ]
  },
  {
   "cell_type": "markdown",
   "metadata": {},
   "source": [
    "### Filtering"
   ]
  },
  {
   "cell_type": "code",
   "execution_count": 6,
   "metadata": {},
   "outputs": [
    {
     "data": {
      "text/plain": [
       "(2415, 26)"
      ]
     },
     "execution_count": 6,
     "metadata": {},
     "output_type": "execute_result"
    }
   ],
   "source": [
    "MaxFFD     = Data.FFD.mean(axis=0) + 2*Data.FFD.std(axis=0)\n",
    "MinFFD     = Data.FFD.mean(axis=0) - 2*Data.FFD.std(axis=0)\n",
    "MaxTFT     = Data.TFT.mean(axis=0) + 2*Data.TFT.std(axis=0)\n",
    "MinTFT     = Data.TFT.mean(axis=0) - 2*Data.TFT.std(axis=0)\n",
    "MaxFPRT    = Data.FPRT.mean(axis=0)+ 2*Data.FPRT.std(axis=0)\n",
    "MinFPRT    = Data.FPRT.mean(axis=0)- 2*Data.FPRT.std(axis=0)\n",
    "OcularData = Data[(Data.FPRT < MaxFPRT) & (Data.FPRT > MinFPRT) & (Data.TFT < MaxTFT) & (Data.TFT > MinTFT) &  (Data.FFD < MaxFFD) & (Data.FFD > MinFFD)]\n",
    "\n",
    "MaxTN      = OcularData.NormTransition.mean(axis=0) + 2*OcularData.NormTransition.std(axis=0)\n",
    "MinTN      = OcularData.NormTransition.mean(axis=0) - 2*OcularData.NormTransition.std(axis=0)\n",
    "OcularData = OcularData[np.logical_or(np.isnan(OcularData.NormTransition), (OcularData.NormTransition < MaxTN) & (OcularData.NormTransition > MinTN))]\n",
    "\n",
    "StatsOcular           = OcularData.groupby(['CCV', 'bloque', 'TipoNumCCV']).agg(['mean', 'sem'])\n",
    "StatsOcular['block']  = StatsOcular.index.get_level_values('bloque')\n",
    "StatsOcular['CCV']    = StatsOcular.index.get_level_values('CCV')\n",
    "StatsOcular['type']   = StatsOcular.index.get_level_values('TipoNumCCV')\n",
    "\n",
    "Data.shape\n",
    "#OcularData.to_csv('DataOcular.csv')"
   ]
  },
  {
   "cell_type": "markdown",
   "metadata": {},
   "source": [
    "### FFD (silent) vs Normalized transition (oral)"
   ]
  },
  {
   "cell_type": "code",
   "execution_count": 7,
   "metadata": {},
   "outputs": [
    {
     "data": {
      "image/png": "[encoded data removed]",
      "text/plain": [
       "<matplotlib.figure.Figure at 0x7ff8325e5b70>"
      ]
     },
     "metadata": {},
     "output_type": "display_data"
    }
   ],
   "source": [
    "y      = StatsOcular[StatsOcular.block==2].FFD['mean']      # Silent\n",
    "y_err  = StatsOcular[StatsOcular.block==2].FFD['sem']         \n",
    "x      = StatsOcular[StatsOcular.block==1].NormTransition['mean']\n",
    "x_err  = StatsOcular[StatsOcular.block==1].NormTransition['sem']\n",
    "labels = StatsOcular[StatsOcular.block==1].index.levels[0]\n",
    "\n",
    "plt.errorbar(x, y, yerr=y_err, xerr=x_err, fmt= 'o')\n",
    "\n",
    "fit    = np.polyfit(x,y,1)\n",
    "fit_fn = np.poly1d(fit) \n",
    "\n",
    "plt.plot(x, fit_fn(x), '--r', alpha=0.5)\n",
    "\n",
    "plt.title('FFD (silent) vs Transition (oral)')\n",
    "plt.ylabel('FFD (ms)')\n",
    "plt.xlabel('Normalized Transition')\n",
    "\n",
    "for i, txt in enumerate(labels):\n",
    "    plt.annotate(txt, (x[i], y[i]))"
   ]
  },
  {
   "cell_type": "markdown",
   "metadata": {},
   "source": [
    "### One variable Regression --->    Ocular Variable vs Repetition Number. Silent modality"
   ]
  },
  {
   "cell_type": "code",
   "execution_count": 111,
   "metadata": {},
   "outputs": [
    {
     "name": "stdout",
     "output_type": "stream",
     "text": [
      "                            OLS Regression Results                            \n",
      "==============================================================================\n",
      "Dep. Variable:        TotalRepetition   R-squared:                       0.070\n",
      "Model:                            OLS   Adj. R-squared:                  0.069\n",
      "Method:                 Least Squares   F-statistic:                     83.67\n",
      "Date:                Thu, 14 Nov 2019   Prob (F-statistic):           2.72e-19\n",
      "Time:                        19:53:29   Log-Likelihood:                -2037.4\n",
      "No. Observations:                1111   AIC:                             4079.\n",
      "Df Residuals:                    1109   BIC:                             4089.\n",
      "Df Model:                           1                                         \n",
      "Covariance Type:            nonrobust                                         \n",
      "==============================================================================\n",
      "                 coef    std err          t      P>|t|      [0.025      0.975]\n",
      "------------------------------------------------------------------------------\n",
      "const          4.9661      0.103     48.415      0.000       4.765       5.167\n",
      "TFT           -0.0013      0.000     -9.147      0.000      -0.002      -0.001\n",
      "==============================================================================\n",
      "Omnibus:                       68.255   Durbin-Watson:                   0.458\n",
      "Prob(Omnibus):                  0.000   Jarque-Bera (JB):               56.061\n",
      "Skew:                          -0.468   Prob(JB):                     6.71e-13\n",
      "Kurtosis:                       2.422   Cond. No.                     1.58e+03\n",
      "==============================================================================\n",
      "\n",
      "Warnings:\n",
      "[1] Standard Errors assume that the covariance matrix of the errors is correctly specified.\n",
      "[2] The condition number is large, 1.58e+03. This might indicate that there are\n",
      "strong multicollinearity or other numerical problems.\n"
     ]
    },
    {
     "name": "stderr",
     "output_type": "stream",
     "text": [
      "/home/alan/anaconda3/envs/CursoPy/lib/python3.7/site-packages/numpy/core/fromnumeric.py:2389: FutureWarning: Method .ptp is deprecated and will be removed in a future version. Use numpy.ptp instead.\n",
      "  return ptp(axis=axis, out=out, **kwargs)\n"
     ]
    }
   ],
   "source": [
    "x = OcularData.TFT[OcularData.bloque==2]\n",
    "y = OcularData.TotalRepetition[OcularData.bloque==2]\n",
    "y = y[~np.isnan(x)]\n",
    "x = x[~np.isnan(x)]\n",
    "\n",
    "x        = sm.add_constant(x)\n",
    "mod      = sm.OLS(y,x)\n",
    "results  = mod.fit()\n",
    "print(results.summary())"
   ]
  },
  {
   "cell_type": "markdown",
   "metadata": {},
   "source": [
    "### Multivariable Regression. Ocular Variable vs repetition number + transition. Only for speech modality"
   ]
  },
  {
   "cell_type": "code",
   "execution_count": 21,
   "metadata": {},
   "outputs": [
    {
     "name": "stdout",
     "output_type": "stream",
     "text": [
      "                            OLS Regression Results                            \n",
      "==============================================================================\n",
      "Dep. Variable:                   FPRT   R-squared:                       0.040\n",
      "Model:                            OLS   Adj. R-squared:                  0.037\n",
      "Method:                 Least Squares   F-statistic:                     14.89\n",
      "Date:                Mon, 11 Nov 2019   Prob (F-statistic):           4.61e-07\n",
      "Time:                        17:21:07   Log-Likelihood:                -5123.1\n",
      "No. Observations:                 726   AIC:                         1.025e+04\n",
      "Df Residuals:                     723   BIC:                         1.027e+04\n",
      "Df Model:                           2                                         \n",
      "Covariance Type:            nonrobust                                         \n",
      "===================================================================================\n",
      "                      coef    std err          t      P>|t|      [0.025      0.975]\n",
      "-----------------------------------------------------------------------------------\n",
      "TotalRepetition   -34.1165      6.616     -5.157      0.000     -47.105     -21.128\n",
      "NormTransition    221.9556    125.061      1.775      0.076     -23.570     467.481\n",
      "bloque            856.8742     54.664     15.675      0.000     749.555     964.194\n",
      "==============================================================================\n",
      "Omnibus:                        2.584   Durbin-Watson:                   1.533\n",
      "Prob(Omnibus):                  0.275   Jarque-Bera (JB):                2.529\n",
      "Skew:                          -0.145   Prob(JB):                        0.282\n",
      "Kurtosis:                       3.008   Cond. No.                         44.3\n",
      "==============================================================================\n",
      "\n",
      "Warnings:\n",
      "[1] Standard Errors assume that the covariance matrix of the errors is correctly specified.\n"
     ]
    }
   ],
   "source": [
    "y  = OcularData[['FPRT', 'bloque']]\n",
    "x  = OcularData[['TotalRepetition', 'NormTransition', 'bloque']]\n",
    "y  = y[y['bloque']==1 & ~np.isnan(x['NormTransition'])]\n",
    "x  = x[x['bloque']==1 & ~np.isnan(x['NormTransition'])]\n",
    "y  = y['FPRT']\n",
    "\n",
    "x        = sm.add_constant(x)\n",
    "mod      = sm.OLS(y,x)\n",
    "results  = mod.fit()\n",
    "print(results.summary())"
   ]
  },
  {
   "cell_type": "markdown",
   "metadata": {},
   "source": [
    "# TFT"
   ]
  },
  {
   "cell_type": "markdown",
   "metadata": {},
   "source": [
    "### Silent vs Aloud"
   ]
  },
  {
   "cell_type": "code",
   "execution_count": 114,
   "metadata": {},
   "outputs": [
    {
     "data": {
      "image/png": "[encoded data removed]",
      "text/plain": [
       "<Figure size 432x288 with 1 Axes>"
      ]
     },
     "metadata": {
      "needs_background": "light"
     },
     "output_type": "display_data"
    }
   ],
   "source": [
    "y      = StatsOcular[StatsOcular.block==2].TFT['mean']      # Silencio\n",
    "y_err  = StatsOcular[StatsOcular.block==2].TFT['sem']  \n",
    "x      = StatsOcular[StatsOcular.block==1].NormTransition['mean']\n",
    "x_err  = StatsOcular[StatsOcular.block==1].NormTransition['sem']\n",
    "labels = StatsOcular[StatsOcular.block==1].index.levels[0]\n",
    "plt.errorbar(x, y, yerr=y_err, xerr=x_err, fmt= 'o')\n",
    "\n",
    "fit = np.polyfit(x,y,1)\n",
    "fit_fn = np.poly1d(fit) \n",
    "\n",
    "plt.title('TFT vs Transition (Silent)')\n",
    "plt.ylabel('TFT (ms)')\n",
    "plt.xlabel('Transición Normalizado')\n",
    "for i, txt in enumerate(labels):\n",
    "    plt.annotate(txt, (x[i], y[i]))\n",
    "\n",
    "plt.grid()\n",
    "plt.show()"
   ]
  },
  {
   "cell_type": "markdown",
   "metadata": {},
   "source": [
    "# FPRT"
   ]
  },
  {
   "cell_type": "markdown",
   "metadata": {},
   "source": [
    "### Silent vs Aloud"
   ]
  },
  {
   "cell_type": "code",
   "execution_count": 117,
   "metadata": {},
   "outputs": [
    {
     "data": {
      "image/png": "[encoded data removed]",
      "text/plain": [
       "<Figure size 432x288 with 1 Axes>"
      ]
     },
     "metadata": {
      "needs_background": "light"
     },
     "output_type": "display_data"
    }
   ],
   "source": [
    "y      = StatsOcular[StatsOcular.block==2].FPRT['mean']      # Silent\n",
    "y_err  = StatsOcular[StatsOcular.block==2].FPRT['sem']  \n",
    "x      = StatsOcular[StatsOcular.block==1].NormTransition['mean']\n",
    "x_err  = StatsOcular[StatsOcular.block==1].NormTransition['sem']\n",
    "labels = StatsOcular[StatsOcular.block==1].index.levels[0]\n",
    "plt.errorbar(x, y, yerr=y_err, xerr=x_err, fmt= 'o')\n",
    "\n",
    "fit = np.polyfit(x,y,1)\n",
    "fit_fn = np.poly1d(fit) \n",
    "\n",
    "plt.title('FPRT vs Transition (Silent)')\n",
    "plt.ylabel('FPRT (ms)')\n",
    "plt.xlabel('Normalized Transition ')\n",
    "for i, txt in enumerate(labels):\n",
    "    plt.annotate(txt, (x[i], y[i]))\n",
    "\n",
    "plt.grid()\n",
    "plt.show()"
   ]
  },
  {
   "cell_type": "markdown",
   "metadata": {},
   "source": [
    "### Statistical tests of groups"
   ]
  },
  {
   "cell_type": "code",
   "execution_count": 119,
   "metadata": {},
   "outputs": [
    {
     "name": "stdout",
     "output_type": "stream",
     "text": [
      "mean of second voiced plosive group is 0.38171262928056404\n",
      "standard error of second voiced plosive group is 0.0028099413806033776\n",
      "mean of second unvoiced plosive group is 0.41291797422561843\n",
      "standard error of second voiced plosive group is 0.002255977771880121\n",
      "726\n"
     ]
    }
   ],
   "source": [
    "# Second voiced plosive test\n",
    "unvoiced = OcularData[OcularData.SegConsVoceada==0].NormTransition\n",
    "voiced   = OcularData[OcularData.SegConsVoceada==1].NormTransition\n",
    "\n",
    "print('mean of second voiced plosive group is ' + str(np.mean(voiced)))\n",
    "print('standard error of second voiced plosive group is ' + str(np.std(voiced)/np.sqrt(len(voiced))))\n",
    "print('mean of second unvoiced plosive group is ' + str(np.mean(unvoiced)))\n",
    "print('standard error of second voiced plosive group is ' + str(np.std(unvoiced)/np.sqrt(len(unvoiced))))\n",
    "scipy.stats.ttest_ind(voiced.values[np.isfinite(voiced.values)], unvoiced.values[np.isfinite(unvoiced.values)])\n",
    "\n",
    "print(len(voiced.values[np.isfinite(voiced.values)]) + len(unvoiced.values[np.isfinite(unvoiced.values)]))\n"
   ]
  },
  {
   "cell_type": "code",
   "execution_count": 120,
   "metadata": {},
   "outputs": [
    {
     "name": "stdout",
     "output_type": "stream",
     "text": [
      "mean of first simmetry group is 0.3726317969688251\n",
      "standard error of first simmetry group is 0.0066834523679135\n",
      "mean of second simmetry group is 0.39011853486643056\n",
      "standard error of second simmetry group is 0.006998592842214748\n"
     ]
    },
    {
     "data": {
      "text/plain": [
       "285"
      ]
     },
     "execution_count": 120,
     "metadata": {},
     "output_type": "execute_result"
    }
   ],
   "source": [
    "# Simmetry tests\n",
    "\n",
    "lista1 = ['BDA', 'BGA', 'DGA']\n",
    "lista2 = ['DBA', 'GBA', 'GDA']\n",
    "\n",
    "index1 = []\n",
    "for i,ccv in enumerate(OcularData.CCV):\n",
    "    if ccv in lista1:\n",
    "        index1.append(i)\n",
    "index2 = []\n",
    "for i,ccv in enumerate(OcularData.CCV):\n",
    "    if ccv in lista2:\n",
    "        index2.append(i)\n",
    "\n",
    "x = OcularData.NormTransition.iloc[index1]\n",
    "y = OcularData.NormTransition.iloc[index2]\n",
    "x = x.values[np.isfinite(x.values)]\n",
    "y = y.values[np.isfinite(y.values)]\n",
    "print('mean of first simmetry group is ' + str(x.mean()))\n",
    "print('standard error of first simmetry group is ' + str((x.std()/np.sqrt(len(x)))))\n",
    "print('mean of second simmetry group is ' + str(y.mean()))\n",
    "print('standard error of second simmetry group is ' + str((y.std()/np.sqrt(len(y)))))\n",
    "\n",
    "scipy.stats.ttest_ind(y,x)\n",
    "len(x)+ len(y)"
   ]
  }
 ],
 "metadata": {
  "anaconda-cloud": {},
  "kernelspec": {
   "display_name": "Python [default]",
   "language": "python",
   "name": "python3"
  },
  "language_info": {
   "codemirror_mode": {
    "name": "ipython",
    "version": 3
   },
   "file_extension": ".py",
   "mimetype": "text/x-python",
   "name": "python",
   "nbconvert_exporter": "python",
   "pygments_lexer": "ipython3",
   "version": "3.5.2"
  }
 },
 "nbformat": 4,
 "nbformat_minor": 2
}
